{
 "cells": [
  {
   "cell_type": "code",
   "execution_count": 7,
   "metadata": {},
   "outputs": [
    {
     "ename": "TypeError",
     "evalue": "get_random() takes 1 positional argument but 2 were given",
     "output_type": "error",
     "traceback": [
      "\u001b[31m---------------------------------------------------------------------------\u001b[39m",
      "\u001b[31mTypeError\u001b[39m                                 Traceback (most recent call last)",
      "\u001b[36mCell\u001b[39m\u001b[36m \u001b[39m\u001b[32mIn[7]\u001b[39m\u001b[32m, line 67\u001b[39m\n\u001b[32m     63\u001b[39m     cv2.waitKey(\u001b[32m10000\u001b[39m)\n\u001b[32m     66\u001b[39m load_images(pathlib.Path.joinpath(pathlib.Path.cwd(),\u001b[33m\"\u001b[39m\u001b[33mOriginal Images\u001b[39m\u001b[33m\"\u001b[39m))\n\u001b[32m---> \u001b[39m\u001b[32m67\u001b[39m org, image = preprocess(\u001b[43mget_random\u001b[49m\u001b[43m(\u001b[49m\u001b[43mpathlib\u001b[49m\u001b[43m.\u001b[49m\u001b[43mPath\u001b[49m\u001b[43m.\u001b[49m\u001b[43mcwd\u001b[49m\u001b[43m(\u001b[49m\u001b[43m)\u001b[49m\u001b[43m,\u001b[49m\u001b[33;43m\"\u001b[39;49m\u001b[33;43mOriginal Images\u001b[39;49m\u001b[33;43m\"\u001b[39;49m\u001b[43m)\u001b[49m)\n\u001b[32m     69\u001b[39m location, encoding = get_faces(image)\n\u001b[32m     70\u001b[39m \u001b[38;5;28mprint\u001b[39m(MEMO)\n",
      "\u001b[31mTypeError\u001b[39m: get_random() takes 1 positional argument but 2 were given"
     ]
    }
   ],
   "source": [
    "import face_recognition\n",
    "import cv2\n",
    "import numpy as np\n",
    "import pathlib\n",
    "from random import choice\n",
    "\n",
    "MEMO:dict[str, int] = {}\n",
    "ENCODING:list[np.ndarray] = []\n",
    "\n",
    "def load_images(path: pathlib.Path):\n",
    "    for i,j in enumerate(path.iterdir()):\n",
    "        name = j.name\n",
    "        MEMO[i] = name\n",
    "        \n",
    "        random_image = choice(list(j.iterdir()))\n",
    "        \n",
    "        ENCODING.append(next(iter(face_recognition.face_encodings(face_recognition.load_image_file(str(random_image))))))\n",
    "\n",
    "def get_random(path: pathlib.Path):\n",
    "    name = choice(list(path.iterdir()))\n",
    "    \n",
    "    return choice(list(name.iterdir()))\n",
    "\n",
    "def preprocess(imagePath: pathlib.Path):\n",
    "    input_image = cv2.imread(imagePath)\n",
    "    lower_image = cv2.resize(input_image,(0,0),fx=0.25,fy=0.25)\n",
    "    # rgb_image = cv2.cvtColor(lower_image, cv2.COLOR_BGR2RGB)\n",
    "    return input_image, lower_image\n",
    "\n",
    "def get_faces(image):\n",
    "    locs =  face_recognition.face_locations(image)\n",
    "    return locs, face_recognition.face_encodings(image)\n",
    "\n",
    "def compare_faces(encodes):\n",
    "    identities = []\n",
    "    \n",
    "    for i in encodes:\n",
    "        matches = face_recognition.compare_faces(ENCODING, i)\n",
    "        dist = face_recognition.face_distance(ENCODING, i)\n",
    "        \n",
    "        if(matches[np.argmin(dist)]):\n",
    "            found = MEMO[np.argmin(dist)]\n",
    "        else:\n",
    "            found = \"Unknown User\"\n",
    "\n",
    "        identities.append(found)\n",
    "    \n",
    "    return identities\n",
    "\n",
    "def display_result(image, locations, names):\n",
    "    for (top, right, bottom, left), name in zip(locations, names):\n",
    "        top*=4\n",
    "        right*=4\n",
    "        bottom*=4\n",
    "        left*=4\n",
    "        \n",
    "        cv2.rectangle(image, (left, top), (right, bottom), (0, 0, 255), 2)\n",
    "        cv2.rectangle(image, (left, bottom - 35), (right, bottom), (0, 0, 255), cv2.FILLED)\n",
    "        font = cv2.FONT_HERSHEY_DUPLEX\n",
    "        cv2.putText(image, name, (left + 6, bottom - 6), font, 1.0, (255, 255, 255), 1)\n",
    "        \n",
    "    cv2.imshow(\"Sample Image\",image)\n",
    "    cv2.waitKey(10000)\n",
    "    \n",
    "\n",
    "load_images(pathlib.Path.joinpath(pathlib.Path.cwd(),\"Original Images\"))\n",
    "org, image = preprocess(get_random(pathlib.Path.joinpath(pathlib.Path.cwd(),\"Original Images\")))\n",
    "\n",
    "location, encoding = get_faces(image)\n",
    "names = compare_faces(encoding)\n",
    "display_result(org,location,names)\n",
    "\n"
   ]
  }
 ],
 "metadata": {
  "kernelspec": {
   "display_name": "test_env",
   "language": "python",
   "name": "python3"
  },
  "language_info": {
   "codemirror_mode": {
    "name": "ipython",
    "version": 3
   },
   "file_extension": ".py",
   "mimetype": "text/x-python",
   "name": "python",
   "nbconvert_exporter": "python",
   "pygments_lexer": "ipython3",
   "version": "3.12.2"
  }
 },
 "nbformat": 4,
 "nbformat_minor": 2
}
